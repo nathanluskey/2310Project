{
 "cells": [
  {
   "cell_type": "markdown",
   "metadata": {},
   "source": [
    "# **Environment Set-Up**\n",
    "\n",
    "Before anything, we need to import some Python packages to help with data inspection and visualization: \n",
    "\n",
    "- **matplotlib** - Python 2D plotting library which produces publication quality figures in a variety of hardcopy formats and interactive environments across platforms.\n",
    "\n",
    "- **math** -  It provides access to the mathematical functions defined by the C standard.\n",
    "\n",
    "- **pandas** - Open source, BSD-licensed library providing high-performance, easy-to-use data structures and data analysis tools for the Python programming language.\n",
    "\n",
    "- **scipy** - A Python-based ecosystem of open-source software for mathematics, science, and engineering.\n",
    "\n",
    "- **scikit-learn** - Machine learning in Python\n",
    "\n",
    "- **warnings** - Used for formatting the Jupyter Notebook"
   ]
  },
  {
   "cell_type": "markdown",
   "metadata": {},
   "source": [
    "# **Data Preview**\n",
    "\n",
    "Let's import the aforementioned packages:"
   ]
  },
  {
   "cell_type": "code",
   "execution_count": 8,
   "metadata": {},
   "outputs": [],
   "source": [
    "import warnings\n",
    "from math import sqrt, pow\n",
    "\n",
    "import pandas as pd\n",
    "import matplotlib.pyplot as plt\n",
    "from scipy.signal import wiener\n",
    "from sklearn import (tree,\n",
    "                     metrics)\n",
    "from sklearn.linear_model import LogisticRegression  \n",
    "from sklearn.model_selection import train_test_split  \n",
    "\n",
    "warnings.simplefilter(\"ignore\")"
   ]
  },
  {
   "cell_type": "markdown",
   "metadata": {},
   "source": [
    "Previewing the data, we have five features - time elapsed from the start of the recording (in seconds), accelerometry data in the xyz directions, and a classification label called \"fall\" which has values of either 0 - indicating no fall - or 1 which indicates a fall."
   ]
  },
  {
   "cell_type": "code",
   "execution_count": 2,
   "metadata": {},
   "outputs": [
    {
     "data": {
      "text/html": [
       "<div>\n",
       "<style scoped>\n",
       "    .dataframe tbody tr th:only-of-type {\n",
       "        vertical-align: middle;\n",
       "    }\n",
       "\n",
       "    .dataframe tbody tr th {\n",
       "        vertical-align: top;\n",
       "    }\n",
       "\n",
       "    .dataframe thead th {\n",
       "        text-align: right;\n",
       "    }\n",
       "</style>\n",
       "<table border=\"1\" class=\"dataframe\">\n",
       "  <thead>\n",
       "    <tr style=\"text-align: right;\">\n",
       "      <th></th>\n",
       "      <th>elapsed (s)</th>\n",
       "      <th>x-axis (g)</th>\n",
       "      <th>y-axis (g)</th>\n",
       "      <th>z-axis (g)</th>\n",
       "      <th>fall</th>\n",
       "    </tr>\n",
       "  </thead>\n",
       "  <tbody>\n",
       "    <tr>\n",
       "      <th>0</th>\n",
       "      <td>0.00</td>\n",
       "      <td>0.395</td>\n",
       "      <td>-0.893</td>\n",
       "      <td>-0.107</td>\n",
       "      <td>0</td>\n",
       "    </tr>\n",
       "    <tr>\n",
       "      <th>1</th>\n",
       "      <td>0.08</td>\n",
       "      <td>0.354</td>\n",
       "      <td>-0.969</td>\n",
       "      <td>-0.139</td>\n",
       "      <td>0</td>\n",
       "    </tr>\n",
       "    <tr>\n",
       "      <th>2</th>\n",
       "      <td>0.16</td>\n",
       "      <td>0.361</td>\n",
       "      <td>-0.966</td>\n",
       "      <td>-0.125</td>\n",
       "      <td>0</td>\n",
       "    </tr>\n",
       "    <tr>\n",
       "      <th>3</th>\n",
       "      <td>0.24</td>\n",
       "      <td>0.359</td>\n",
       "      <td>-0.987</td>\n",
       "      <td>-0.146</td>\n",
       "      <td>0</td>\n",
       "    </tr>\n",
       "    <tr>\n",
       "      <th>4</th>\n",
       "      <td>0.32</td>\n",
       "      <td>0.300</td>\n",
       "      <td>-0.942</td>\n",
       "      <td>-0.126</td>\n",
       "      <td>0</td>\n",
       "    </tr>\n",
       "  </tbody>\n",
       "</table>\n",
       "</div>"
      ],
      "text/plain": [
       "   elapsed (s)  x-axis (g)  y-axis (g)  z-axis (g)  fall\n",
       "0         0.00       0.395      -0.893      -0.107     0\n",
       "1         0.08       0.354      -0.969      -0.139     0\n",
       "2         0.16       0.361      -0.966      -0.125     0\n",
       "3         0.24       0.359      -0.987      -0.146     0\n",
       "4         0.32       0.300      -0.942      -0.126     0"
      ]
     },
     "execution_count": 2,
     "metadata": {},
     "output_type": "execute_result"
    }
   ],
   "source": [
    "test_data = pd.read_csv(\"Data/labeled_data.csv\")\n",
    "\n",
    "test_data.head(5)"
   ]
  },
  {
   "cell_type": "markdown",
   "metadata": {},
   "source": [
    "The following method builds upon the signal processing method developed in last phase to smooth out our signal. Here, we are invoking the wiener filter over a smoothed signal which was smoothed via a 3 point rolling average. \n",
    "\n",
    "Now, we can slice up the data and see how the manual hand labeling provided in the data set holds-up - we can do initial inspection of the data and then a later correlation analysis."
   ]
  },
  {
   "cell_type": "code",
   "execution_count": 3,
   "metadata": {},
   "outputs": [],
   "source": [
    "x_acc = test_data[\"x-axis (g)\"]\n",
    "y_acc = test_data[\"y-axis (g)\"]\n",
    "z_acc = test_data[\"z-axis (g)\"]\n",
    "\n",
    "time = test_data[\"elapsed (s)\"]\n",
    "fall = test_data[\"fall\"]"
   ]
  },
  {
   "cell_type": "code",
   "execution_count": 4,
   "metadata": {},
   "outputs": [],
   "source": [
    "rolling_avg_val = 3\n",
    "padded_list = rolling_avg_val * [[0]]\n",
    "\n",
    "smoothed_x = pd.concat([pd.DataFrame(padded_list), test_data[\"x-axis (g)\"]],\n",
    "                        ignore_index=True)\n",
    "smoothed_y = pd.concat([pd.DataFrame(padded_list), test_data[\"y-axis (g)\"]],\n",
    "                        ignore_index=True)\n",
    "smoothed_z = pd.concat([pd.DataFrame(padded_list), test_data[\"z-axis (g)\"]],\n",
    "                        ignore_index=True)\n",
    "\n",
    "smoothed_x = test_data[\"x-axis (g)\"].rolling(rolling_avg_val).mean()\n",
    "smoothed_y = test_data[\"y-axis (g)\"].rolling(rolling_avg_val).mean()\n",
    "smoothed_z = test_data[\"z-axis (g)\"].rolling(rolling_avg_val).mean()\n",
    "\n",
    "smoothed_x = smoothed_x.fillna(0)\n",
    "smoothed_y = smoothed_y.fillna(0)\n",
    "smoothed_z = smoothed_z.fillna(0)"
   ]
  },
  {
   "cell_type": "code",
   "execution_count": 5,
   "metadata": {},
   "outputs": [
    {
     "data": {
      "image/png": "[encoded data removed]",
      "text/plain": [
       "<Figure size 432x288 with 1 Axes>"
      ]
     },
     "metadata": {
      "needs_background": "light"
     },
     "output_type": "display_data"
    }
   ],
   "source": [
    "plt.plot(time[900:1000], wiener(smoothed_x)[900:1000], \"bo-\", label=\"X-Acc\")\n",
    "plt.plot(time[900:1000], wiener(smoothed_y)[900:1000], \"co-\", label=\"Y-Acc\")\n",
    "plt.plot(time[900:1000], wiener(smoothed_z)[900:1000], \"mo-\", label=\"Z-Acc\")\n",
    "plt.plot(time[900:1000], fall[900:1000], \"ko-\", label=\"Fall\")\n",
    "\n",
    "plt.title(\"Fall Classification Overlay\")\n",
    "plt.ylabel(\"Fall Overlay\")\n",
    "plt.xlabel(\"Time (s)\")\n",
    "plt.legend()\n",
    "\n",
    "plt.show()"
   ]
  },
  {
   "cell_type": "markdown",
   "metadata": {},
   "source": [
    "Taking an arbitrary fall from the data set, it looks like, from the outset, that the hand annotations worked out pretty well. Still, let's continue on to a correlational analysis to ensure that we are on track to use this data set for training."
   ]
  },
  {
   "cell_type": "markdown",
   "metadata": {},
   "source": [
    "# __Training Our Models__\n",
    "\n",
    "Starting with our raw data, let's do an 80/20 split of our data with 80% being training and 20% testing data:"
   ]
  },
  {
   "cell_type": "code",
   "execution_count": 6,
   "metadata": {},
   "outputs": [],
   "source": [
    "dataset = test_data.drop([\"elapsed (s)\", \"fall\"], axis=1)\n",
    "\n",
    "x_train, x_test, y_train, y_test = train_test_split(dataset, fall, test_size=0.2, random_state=0)"
   ]
  },
  {
   "cell_type": "code",
   "execution_count": 7,
   "metadata": {},
   "outputs": [
    {
     "ename": "NameError",
     "evalue": "name 'metrics' is not defined",
     "output_type": "error",
     "traceback": [
      "\u001b[0;31m---------------------------------------------------------------------------\u001b[0m",
      "\u001b[0;31mNameError\u001b[0m                                 Traceback (most recent call last)",
      "\u001b[0;32m<ipython-input-7-3ac88646359f>\u001b[0m in \u001b[0;36m<module>\u001b[0;34m\u001b[0m\n\u001b[1;32m      6\u001b[0m \u001b[0mpredicted\u001b[0m \u001b[0;34m=\u001b[0m \u001b[0mpd\u001b[0m\u001b[0;34m.\u001b[0m\u001b[0mDataFrame\u001b[0m\u001b[0;34m(\u001b[0m\u001b[0mlogit_model\u001b[0m\u001b[0;34m.\u001b[0m\u001b[0mpredict\u001b[0m\u001b[0;34m(\u001b[0m\u001b[0mx_test\u001b[0m\u001b[0;34m)\u001b[0m\u001b[0;34m)\u001b[0m\u001b[0;34m\u001b[0m\u001b[0;34m\u001b[0m\u001b[0m\n\u001b[1;32m      7\u001b[0m \u001b[0mprobs\u001b[0m \u001b[0;34m=\u001b[0m \u001b[0mpd\u001b[0m\u001b[0;34m.\u001b[0m\u001b[0mDataFrame\u001b[0m\u001b[0;34m(\u001b[0m\u001b[0mlogit_model\u001b[0m\u001b[0;34m.\u001b[0m\u001b[0mpredict_proba\u001b[0m\u001b[0;34m(\u001b[0m\u001b[0mx_test\u001b[0m\u001b[0;34m)\u001b[0m\u001b[0;34m)\u001b[0m\u001b[0;34m\u001b[0m\u001b[0;34m\u001b[0m\u001b[0m\n\u001b[0;32m----> 8\u001b[0;31m \u001b[0mprint\u001b[0m\u001b[0;34m(\u001b[0m\u001b[0mmetrics\u001b[0m\u001b[0;34m.\u001b[0m\u001b[0maccuracy_score\u001b[0m\u001b[0;34m(\u001b[0m\u001b[0my_test\u001b[0m\u001b[0;34m,\u001b[0m \u001b[0mpredicted\u001b[0m\u001b[0;34m)\u001b[0m\u001b[0;34m)\u001b[0m\u001b[0;34m\u001b[0m\u001b[0;34m\u001b[0m\u001b[0m\n\u001b[0m",
      "\u001b[0;31mNameError\u001b[0m: name 'metrics' is not defined"
     ]
    }
   ],
   "source": [
    "logit_model = LogisticRegression()  \n",
    "logit_model = logit_model.fit(x_train, y_train)  \n",
    "logit_model.score(x_train, y_train)  \n",
    "\n",
    "\n",
    "predicted = pd.DataFrame(logit_model.predict(x_test))  \n",
    "probs = pd.DataFrame(logit_model.predict_proba(x_test))  \n",
    "print(metrics.accuracy_score(y_test, predicted))"
   ]
  }
 ],
 "metadata": {
  "kernelspec": {
   "display_name": "Python 3",
   "language": "python",
   "name": "python3"
  },
  "language_info": {
   "codemirror_mode": {
    "name": "ipython",
    "version": 3
   },
   "file_extension": ".py",
   "mimetype": "text/x-python",
   "name": "python",
   "nbconvert_exporter": "python",
   "pygments_lexer": "ipython3",
   "version": "3.7.3"
  }
 },
 "nbformat": 4,
 "nbformat_minor": 2
}
