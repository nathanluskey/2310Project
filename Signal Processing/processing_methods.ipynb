{
 "cells": [
  {
   "cell_type": "markdown",
   "metadata": {},
   "source": [
    "# **Environment Set-Up**\n",
    "\n",
    "Before anything, we need to import some Python packages to help with data inspection and visualization: \n",
    "\n",
    "- **pandas** - Open source, BSD-licensed library providing high-performance, easy-to-use data structures and data analysis tools for the Python programming language.\n",
    "\n",
    "- **matplotlib** - Python 2D plotting library which produces publication quality figures in a variety of hardcopy formats and interactive environments across platforms.\n",
    "\n",
    "- **math** -  It provides access to the mathematical functions defined by the C standard."
   ]
  },
  {
   "cell_type": "markdown",
   "metadata": {},
   "source": [
    "# **Data Analysis**"
   ]
  },
  {
   "cell_type": "markdown",
   "metadata": {},
   "source": [
    "Let's import the aforementioned packages:"
   ]
  },
  {
   "cell_type": "code",
   "execution_count": null,
   "metadata": {},
   "outputs": [],
   "source": [
    "import pandas as pd\n",
    "import matplotlib.pyplot as plt\n",
    "from math import sqrt, pow"
   ]
  },
  {
   "cell_type": "markdown",
   "metadata": {},
   "source": [
    " "
   ]
  },
  {
   "cell_type": "markdown",
   "metadata": {},
   "source": [
    "It's always a good idea to preview our test data. Let's import it and give it a peak."
   ]
  },
  {
   "cell_type": "code",
   "execution_count": null,
   "metadata": {},
   "outputs": [],
   "source": [
    "test_data = pd.read_csv(\"test_data.csv\")\n",
    "\n",
    "test_data.head(10)"
   ]
  },
  {
   "cell_type": "markdown",
   "metadata": {},
   "source": [
    "Cool - we have data from a triaxial accelerometer with a running time. \n",
    "\n",
    "What is great is this data is representative of an IMU - it is actual data collected from the MetaMotionR IMU, a high end 9-axis IMU similar in principle to the Teensy 3.2: \n",
    "\n",
    "<img src=\"metamotion.png\"/>"
   ]
  },
  {
   "cell_type": "markdown",
   "metadata": {},
   "source": [
    "<img src=\"metamotion_hardware.png\"/>"
   ]
  },
  {
   "cell_type": "markdown",
   "metadata": {},
   "source": [
    "<img src=\"metamotion_specs.png\"/>"
   ]
  },
  {
   "cell_type": "markdown",
   "metadata": {},
   "source": [
    "## **Data Visualization**\n",
    "\n",
    "Let's go ahead and visualize accelerometry on each axis using matplotlib. \n",
    "\n",
    "First, let's split up our data into the respective acclerations"
   ]
  },
  {
   "cell_type": "code",
   "execution_count": null,
   "metadata": {},
   "outputs": [],
   "source": [
    "x_acc = test_data.x_acc\n",
    "y_acc = test_data.y_acc\n",
    "z_acc = test_data.z_acc\n",
    "time = test_data.time"
   ]
  },
  {
   "cell_type": "markdown",
   "metadata": {},
   "source": [
    "Now, let's plot the accelerations! "
   ]
  },
  {
   "cell_type": "code",
   "execution_count": null,
   "metadata": {},
   "outputs": [],
   "source": [
    "plt.subplot(1, 1, 1)\n",
    "plt.gca().set_title(\"X-Acc vs. Time\")\n",
    "plt.plot(time, x_acc, \"ro-\")\n",
    "plt.ylabel(\"Acceleration\")\n",
    "plt.xlabel(\"Time (s)\")\n",
    "plt.show()"
   ]
  },
  {
   "cell_type": "code",
   "execution_count": null,
   "metadata": {},
   "outputs": [],
   "source": [
    "plt.subplot(1, 1, 1)\n",
    "plt.gca().set_title(\"Y-Acc vs. Time\")\n",
    "plt.plot(time, y_acc, \"go-\")\n",
    "plt.ylabel(\"Acceleration\")\n",
    "plt.xlabel(\"Time (s)\")\n",
    "plt.show()"
   ]
  },
  {
   "cell_type": "code",
   "execution_count": null,
   "metadata": {},
   "outputs": [],
   "source": [
    "plt.subplot(1, 1, 1)\n",
    "plt.gca().set_title(\"Z-Acc vs. Time\")\n",
    "plt.plot(time, z_acc, \"bo-\")\n",
    "plt.ylabel(\"Acceleration\")\n",
    "plt.xlabel(\"Time (s)\")\n",
    "plt.show()"
   ]
  },
  {
   "cell_type": "markdown",
   "metadata": {},
   "source": [
    "## **Data Inspection**\n",
    "\n",
    "Now that we have plotted each axis, let's compare each axis in this time frame to see what is happening."
   ]
  },
  {
   "cell_type": "code",
   "execution_count": null,
   "metadata": {},
   "outputs": [],
   "source": [
    "plt.subplot(3, 1, 1)\n",
    "plt.gca().set_title(\"X-Acc vs. Time\")\n",
    "plt.plot(time, x_acc, \"ro-\")\n",
    "plt.ylabel(\"Acceleration\")\n",
    "plt.xlabel(\"Time (s)\")\n",
    "\n",
    "plt.subplot(3, 1, 2)\n",
    "plt.gca().set_title(\"Y-Acc vs. Time\")\n",
    "plt.plot(time, y_acc, \"go-\")\n",
    "plt.ylabel(\"Acceleration\")\n",
    "plt.xlabel(\"Time (s)\")\n",
    "\n",
    "plt.subplot(3, 1, 3)\n",
    "plt.gca().set_title(\"Z-Acc vs. Time\")\n",
    "plt.plot(time, z_acc, \"bo-\")\n",
    "plt.ylabel(\"Acceleration\")\n",
    "plt.xlabel(\"Time (s)\")\n",
    "\n",
    "plt.subplots_adjust(hspace=2)\n",
    "plt.show()"
   ]
  },
  {
   "cell_type": "markdown",
   "metadata": {},
   "source": [
    "It seems like there is some event happening around the three second mark. Let's get a better look by overlaying each plot on each other:"
   ]
  },
  {
   "cell_type": "code",
   "execution_count": null,
   "metadata": {},
   "outputs": [],
   "source": [
    "fig, ax = plt.subplots()\n",
    "ax.plot(time, x_acc, \"ro-\", label=\"X-Acc\")\n",
    "ax.plot(time, y_acc, \"go-\", label=\"Y-Acc\")\n",
    "ax.plot(time, z_acc, \"bo-\", label=\"Z-Acc\")\n",
    "ax.set(xlabel=\"Time (s)\", ylabel = \"Acceleration\", title = \"Acceleration Directions vs. Time\")\n",
    "ax.legend()\n",
    "\n",
    "plt.show()"
   ]
  },
  {
   "cell_type": "markdown",
   "metadata": {},
   "source": [
    "It's a little noisy, but there appears to be significant movement happening at the 3 second mark - this is actually me standing up from my chair. There is another point of interest at the 4 second mark where almost all the signals go negative. This is where I fell down on the ground. At the 2, 3, and 4 second marks, there are some spikes along the y-axis acceleration - I do not know for sure, but I hypothesize these are me taking steps. More processing will have to be done to confirm this hypothesis. \n",
    "\n",
    "Without any real signal processing, we can roughly tell when a fall occurs and we can expect to see a dramatic deceleration in the y-axis and z-axis. "
   ]
  },
  {
   "cell_type": "markdown",
   "metadata": {},
   "source": [
    "# **Processing Methods**\n",
    "\n",
    "The following methods demonstrated below show possible methods for analyzing accelerometry data. Each method is interactive and includes a basic pros and cons analysis."
   ]
  },
  {
   "cell_type": "markdown",
   "metadata": {},
   "source": [
    "## **Method 1: Magnitude Method** \n",
    "\n",
    "### **Summary**\n",
    "\n",
    "This method is courtesy of Ayse Cakmak, a PhD Student at Georgia Tech's Department of Electrical Engineering. It is a rather simple method that looks at the magnitude of accelerations across all dimensions and can help determine points of interest. \n",
    "\n",
    "The key function to determine the **magnitude of acceleration** is:\n",
    "\n",
    "$A_{mag}(t) = \\sqrt{A(t)_x^2 + A(t)_y^2 + A(t)_z^2}$\n",
    "\n",
    "### **Implementation** \n",
    "\n",
    "Let's implement this method to calculate the magnitude of accelerations. Let's start with reviewing our data and slicing up our data frame to prep for plotting:"
   ]
  },
  {
   "cell_type": "code",
   "execution_count": null,
   "metadata": {},
   "outputs": [],
   "source": [
    "mag_data = test_data.copy()\n",
    "\n",
    "mag_x_acc = mag_data.x_acc\n",
    "mag_y_acc = mag_data.y_acc\n",
    "mag_z_acc = mag_data.z_acc\n",
    "mag_time = mag_data.time\n",
    "\n",
    "mag_data.head(5)"
   ]
  },
  {
   "cell_type": "markdown",
   "metadata": {},
   "source": [
    "Now let's explicitly implement this method:"
   ]
  },
  {
   "cell_type": "code",
   "execution_count": null,
   "metadata": {},
   "outputs": [],
   "source": [
    "for i in range(len(mag_x_acc)):\n",
    "    print(sqrt( pow(mag_x_acc[i], 2) + pow(mag_y_acc[i], 2) + pow(mag_z_acc[i], 2) ))"
   ]
  },
  {
   "cell_type": "markdown",
   "metadata": {},
   "source": [
    "Shown above is our output of accelerations. Moving on, let's visualize this to see what it will tell us about falls.\n",
    "\n",
    "### **Visualizations**\n",
    "\n",
    "Using our calculated acceleration magnitudes, let's see what this yields: "
   ]
  },
  {
   "cell_type": "code",
   "execution_count": null,
   "metadata": {},
   "outputs": [],
   "source": [
    "magnitudes = [sqrt( pow(mag_x_acc[i], 2) + pow(mag_y_acc[i], 2) + pow(mag_z_acc[i], 2) ) \n",
    "              for i in range(len(mag_x_acc))] \n",
    "\n",
    "plt.subplot(1, 1, 1)\n",
    "plt.gca().set_title(\"Magnitude of Acceleration vs. Time\")\n",
    "plt.plot(mag_time, magnitudes, \"mo-\")\n",
    "plt.ylabel(\"Magnitude of Acceleration\")\n",
    "plt.xlabel(\"Time (s)\")\n",
    "plt.show()"
   ]
  },
  {
   "cell_type": "markdown",
   "metadata": {},
   "source": [
    "Let's see how this compares to our individual accelerations from our original data set and if it tells us anything useful or helps confirm our hyptheses:"
   ]
  },
  {
   "cell_type": "code",
   "execution_count": null,
   "metadata": {},
   "outputs": [],
   "source": [
    "fig, ax = plt.subplots()\n",
    "ax.plot(time, x_acc, \"ro-\", label=\"X-Acc\")\n",
    "ax.plot(time, y_acc, \"go-\", label=\"Y-Acc\")\n",
    "ax.plot(time, z_acc, \"bo-\", label=\"Z-Acc\")\n",
    "ax.plot(mag_time, magnitudes, \"mo-\", label=\"Mag-Acc\")\n",
    "ax.set(xlabel=\"Time (s)\", ylabel = \"Acceleration\", title = \"Axial Acc's Contrasted with Mag Acc vs. Time\")\n",
    "ax.legend()\n",
    "\n",
    "plt.show()"
   ]
  },
  {
   "cell_type": "markdown",
   "metadata": {},
   "source": [
    "### **Pros**\n",
    "\n",
    "This method is simple to implement and can be run quickly. Moreover, it is extremely sensitive to drastic events as shown in the graph titled Axial Acc's Contrasted with Mag Acc vs. Time. One can clearly see that some sort of movement event occured at the 3 second mark. Furthermore, this may help identify steps as it would appear some of the Mag Acc peaks coincide with what were hypothesized to be steps from initial inspection.\n",
    "\n",
    "### **Cons**\n",
    "\n",
    "However, this method is not very robust - it does not tell you anything about the direction of an event. It simply tells you the \"severity\" of an event and if it is abnormal. Moreover, downward accelerations can be positively affected and become difficult to distinguish from positive accelerations. \n",
    "\n",
    "### **Conclusion**\n",
    "\n",
    "This method may be useful in the future as a sanity check as well as identifying significant events in the data. A first pass if you will. Moreover, I believe the values from the accelerometer can be centered around 0 in such a way as to better fit the data. This can help give a better indication of falls and what is happening in the data. "
   ]
  }
 ],
 "metadata": {
  "kernelspec": {
   "display_name": "Python 3",
   "language": "python",
   "name": "python3"
  },
  "language_info": {
   "codemirror_mode": {
    "name": "ipython",
    "version": 3
   },
   "file_extension": ".py",
   "mimetype": "text/x-python",
   "name": "python",
   "nbconvert_exporter": "python",
   "pygments_lexer": "ipython3",
   "version": "3.6.4"
  }
 },
 "nbformat": 4,
 "nbformat_minor": 2
}
